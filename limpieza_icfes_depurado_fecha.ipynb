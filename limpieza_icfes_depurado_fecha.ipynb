{
 "cells": [
  {
   "cell_type": "code",
   "execution_count": 1,
   "metadata": {},
   "outputs": [
    {
     "name": "stderr",
     "output_type": "stream",
     "text": [
      "E:\\aplicaciones\\Anaconda3\\lib\\site-packages\\IPython\\core\\interactiveshell.py:3072: DtypeWarning: Columns (11) have mixed types.Specify dtype option on import or set low_memory=False.\n",
      "  interactivity=interactivity, compiler=compiler, result=result)\n"
     ]
    }
   ],
   "source": [
    "import pandas as pd\n",
    "datalimpio = pd.read_csv('data-final-depurado.csv',header=0,encoding = \"UTF-8\")"
   ]
  },
  {
   "cell_type": "code",
   "execution_count": 74,
   "metadata": {},
   "outputs": [],
   "source": [
    "datalimpiofecha = datalimpio.copy()"
   ]
  },
  {
   "cell_type": "code",
   "execution_count": 76,
   "metadata": {},
   "outputs": [],
   "source": [
    "set1 = [['SaberPro', 20163], ['SaberPro', 20173], ['SaberPro', 20183], \n",
    "        ['SaberTyT', 20161], ['SaberTyT', 20164], ['SaberTyT', 20181],\n",
    "        ['SaberTyT', 20192]]\n",
    "set2 = [['SaberPro', 20182],['SaberPro', 20184], \n",
    "        ['SaberTyT', 20183], ['SaberTyT', 20184]]\n",
    "set3 = [['SaberPro', 20195], ['SaberPro', 20194], ['SaberPro', 20196],\n",
    "        ['SaberTyT', 20195], ['SaberTyT', 20196], ['SaberTyT', 20194]]\n",
    "set4 = [['SaberTyT', 20171], ['SaberTyT', 20173]]"
   ]
  },
  {
   "cell_type": "code",
   "execution_count": 79,
   "metadata": {},
   "outputs": [],
   "source": [
    "for prueba, periodo in set1:\n",
    "    idx = (datalimpiofecha['PERIODO']==periodo) & (datalimpio['PRUEBA']==prueba)\n",
    "    datalimpiofecha.loc[idx,'ESTU_FECHANACIMIENTO'] = pd.to_datetime(\n",
    "        datalimpiofecha.loc[idx,'ESTU_FECHANACIMIENTO'], format='%d/%m/%Y', errors = 'coerce')"
   ]
  },
  {
   "cell_type": "code",
   "execution_count": 81,
   "metadata": {},
   "outputs": [],
   "source": [
    "for prueba, periodo in set2:\n",
    "    idx = (datalimpiofecha['PERIODO']==periodo) & (datalimpio['PRUEBA']==prueba)\n",
    "    datalimpiofecha.loc[idx,'ESTU_FECHANACIMIENTO'] = pd.to_datetime(\n",
    "        datalimpiofecha.loc[idx,'ESTU_FECHANACIMIENTO'], format='%m/%d/%Y', errors = 'coerce')"
   ]
  },
  {
   "cell_type": "code",
   "execution_count": 82,
   "metadata": {},
   "outputs": [],
   "source": [
    "for prueba, periodo in set3:\n",
    "    idx = (datalimpiofecha['PERIODO']==periodo) & (datalimpio['PRUEBA']==prueba)\n",
    "    datalimpiofecha.loc[idx,'ESTU_FECHANACIMIENTO'] = pd.to_datetime(\n",
    "        datalimpiofecha.loc[idx,'ESTU_FECHANACIMIENTO'], format='%m/%d/%Y %H:%M:%S AM', errors = 'coerce')"
   ]
  },
  {
   "cell_type": "code",
   "execution_count": 83,
   "metadata": {},
   "outputs": [],
   "source": [
    "for prueba, periodo in set4:\n",
    "    idx = (datalimpiofecha['PERIODO']==periodo) & (datalimpio['PRUEBA']==prueba)\n",
    "    datalimpiofecha.loc[idx,'ESTU_FECHANACIMIENTO'] = pd.to_datetime(\n",
    "        datalimpiofecha.loc[idx,'ESTU_FECHANACIMIENTO'], format='%Y-%m-%dT%H:%M:%S', errors = 'coerce')"
   ]
  },
  {
   "cell_type": "code",
   "execution_count": 87,
   "metadata": {},
   "outputs": [],
   "source": [
    "datalimpiofecha['ESTU_FECHANACIMIENTO'] = pd.to_datetime(datalimpiofecha['ESTU_FECHANACIMIENTO'])"
   ]
  },
  {
   "cell_type": "code",
   "execution_count": 88,
   "metadata": {},
   "outputs": [
    {
     "data": {
      "text/plain": [
       "0         1994-11-24 00:00:00\n",
       "1         1991-06-11 00:00:00\n",
       "2         1995-02-22 00:00:00\n",
       "3         1994-08-01 00:00:00\n",
       "4         1980-08-18 00:00:00\n",
       "                  ...        \n",
       "1580569   1998-10-04 12:00:00\n",
       "1580570   1999-06-19 12:00:00\n",
       "1580571   1998-10-08 12:00:00\n",
       "1580572   1997-08-28 12:00:00\n",
       "1580573   2000-06-18 12:00:00\n",
       "Name: ESTU_FECHANACIMIENTO, Length: 1580574, dtype: datetime64[ns]"
      ]
     },
     "execution_count": 88,
     "metadata": {},
     "output_type": "execute_result"
    }
   ],
   "source": [
    "datalimpiofecha['ESTU_FECHANACIMIENTO']"
   ]
  },
  {
   "cell_type": "code",
   "execution_count": 89,
   "metadata": {},
   "outputs": [],
   "source": [
    "datalimpiofecha.to_csv('data-final-depurado-fecha.csv', index=False, encoding='utf-8', sep=',')"
   ]
  }
 ],
 "metadata": {
  "kernelspec": {
   "display_name": "Python 3",
   "language": "python",
   "name": "python3"
  },
  "language_info": {
   "codemirror_mode": {
    "name": "ipython",
    "version": 3
   },
   "file_extension": ".py",
   "mimetype": "text/x-python",
   "name": "python",
   "nbconvert_exporter": "python",
   "pygments_lexer": "ipython3",
   "version": "3.7.4"
  }
 },
 "nbformat": 4,
 "nbformat_minor": 4
}
