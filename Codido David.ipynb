{
 "cells": [
  {
   "cell_type": "code",
   "execution_count": 1,
   "metadata": {},
   "outputs": [],
   "source": [
    "import pandas as pd\n",
    "import numpy as np\n",
    "\n",
    "# Lectura de data 2013\n",
    "df = pd.read_csv(\"data/D.csv\")\n",
    "df.head()\n",
    "# Numero de filas y columnas\n",
    "df.shape\n",
    "# Variables \n",
    "list(df.columns)\n",
    "# Indice de las filas\n",
    "list(df.index)[0:20]\n",
    "\n",
    "\n",
    "# Descripcion de las variables de interes\n",
    "print(df[\"Open\"].describe())\n",
    "print(df[\"High\"].describe())\n",
    "print(df[\"Low\"].describe())\n",
    "print(df[\"Close\"].describe())\n",
    "\n",
    "\n"
   ]
  },
  {
   "cell_type": "code",
   "execution_count": null,
   "metadata": {},
   "outputs": [],
   "source": []
  }
 ],
 "metadata": {
  "kernelspec": {
   "display_name": "Python 3",
   "language": "python",
   "name": "python3"
  },
  "language_info": {
   "codemirror_mode": {
    "name": "ipython",
    "version": 3
   },
   "file_extension": ".py",
   "mimetype": "text/x-python",
   "name": "python",
   "nbconvert_exporter": "python",
   "pygments_lexer": "ipython3",
   "version": "3.7.3"
  }
 },
 "nbformat": 4,
 "nbformat_minor": 2
}
